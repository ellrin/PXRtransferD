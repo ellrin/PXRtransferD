{
 "cells": [
  {
   "cell_type": "code",
   "execution_count": 1,
   "metadata": {},
   "outputs": [
    {
     "name": "stderr",
     "output_type": "stream",
     "text": [
      "Using TensorFlow backend.\n"
     ]
    }
   ],
   "source": [
    "import os\n",
    "import json\n",
    "from keras.models import load_model\n",
    "from utils.preprocessing import prepareTestingData\n",
    "from utils.prediction import get_results, get_tSNE"
   ]
  },
  {
   "cell_type": "code",
   "execution_count": 2,
   "metadata": {},
   "outputs": [],
   "source": [
    "with open('./information/prediction.json') as info:\n",
    "    prediction_info = json.load(info)"
   ]
  },
  {
   "cell_type": "code",
   "execution_count": 3,
   "metadata": {},
   "outputs": [],
   "source": [
    "gpu_number    = prediction_info['gpu_number']\n",
    "testImgPath   = prediction_info['testImgPath']\n",
    "PXRmodel_path = prediction_info['PXRmodel_path']\n",
    "testBatchSize = prediction_info['testBatchSize']\n",
    "imgSize       = prediction_info['imgSize']\n",
    "youden_index  = prediction_info['youden_index']\n",
    "intermediate_layername = prediction_info['intermediate_layername']"
   ]
  },
  {
   "cell_type": "code",
   "execution_count": 4,
   "metadata": {},
   "outputs": [],
   "source": [
    "os.environ[\"CUDA_VISIBLE_DEVICES\"] = str(gpu_number)"
   ]
  },
  {
   "cell_type": "code",
   "execution_count": 5,
   "metadata": {},
   "outputs": [
    {
     "name": "stdout",
     "output_type": "stream",
     "text": [
      "Found 688 images belonging to 2 classes.\n",
      "loading images...\n"
     ]
    }
   ],
   "source": [
    "imgs, labels, positive_image_number, negative_image_number = prepareTestingData(testImgPath, imgSize)"
   ]
  },
  {
   "cell_type": "code",
   "execution_count": 6,
   "metadata": {},
   "outputs": [
    {
     "name": "stdout",
     "output_type": "stream",
     "text": [
      "688/688 [==============================] - 13s 18ms/step\n"
     ]
    }
   ],
   "source": [
    "model = load_model(PXRmodel_path)\n",
    "predicted_probability = model.predict(imgs, batch_size=testBatchSize, verbose=1)"
   ]
  },
  {
   "cell_type": "code",
   "execution_count": 7,
   "metadata": {},
   "outputs": [
    {
     "name": "stdout",
     "output_type": "stream",
     "text": [
      "TP = 350\n",
      "TN = 295\n",
      "FP = 14 \n",
      "FN = 29\n",
      "Accuracy    = 93.75%\n",
      "Sensitivity = 92.34%\n",
      "Specificity = 95.46%\n",
      "F1-score    = 94.21%\n"
     ]
    }
   ],
   "source": [
    "TP, TN, FP, FN, FPidx, FNidx, Accuracy, Sensitivity, Specificity, f1 = \\\n",
    "get_results(labels, predicted_probability, positive_image_number, negative_image_number, 0.5)\n",
    "print('TP = %s\\nTN = %s\\nFP = %s \\nFN = %s'%(TP,TN,FP,FN))\n",
    "print('Accuracy    = %s'%(int(Accuracy*10000)/100)+'%')\n",
    "print('Sensitivity = %s'%(int(Sensitivity*10000)/100)+'%')\n",
    "print('Specificity = %s'%(int(Specificity*10000)/100)+'%')\n",
    "print('F1-score    = %s'%(int(f1 *10000)/100)+'%')"
   ]
  },
  {
   "cell_type": "code",
   "execution_count": null,
   "metadata": {},
   "outputs": [],
   "source": [
    "fig = get_tSNE(model, intermediate_layername, imgs, labels, testBatchSize, FPidx, FNidx)\n",
    "fig"
   ]
  }
 ],
 "metadata": {
  "kernelspec": {
   "display_name": "Python 3",
   "language": "python",
   "name": "python3"
  },
  "language_info": {
   "codemirror_mode": {
    "name": "ipython",
    "version": 3
   },
   "file_extension": ".py",
   "mimetype": "text/x-python",
   "name": "python",
   "nbconvert_exporter": "python",
   "pygments_lexer": "ipython3",
   "version": "3.7.3"
  }
 },
 "nbformat": 4,
 "nbformat_minor": 2
}
